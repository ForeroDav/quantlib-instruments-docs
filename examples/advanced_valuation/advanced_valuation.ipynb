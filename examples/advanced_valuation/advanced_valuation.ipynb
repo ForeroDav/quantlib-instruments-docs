{
 "cells": [
  {
   "cell_type": "markdown",
   "metadata": {},
   "source": [
    "# Advanced Valuation Techniques\n",
    "\n",
    "Advanced pricing methods and risk analysis.\n",
    "\n",
    "## Topics\n",
    "\n",
    "- Monte Carlo simulation\n",
    "- PDE methods\n",
    "- Calibration\n",
    "- Risk metrics\n",
    "\n",
    "*Content coming soon*"
   ]
  }
 ],
 "metadata": {
  "kernelspec": {
   "display_name": "Python 3",
   "language": "python",
   "name": "python3"
  }
 },
 "nbformat": 4,
 "nbformat_minor": 4
}
