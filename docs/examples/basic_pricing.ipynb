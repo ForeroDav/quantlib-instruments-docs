{
 "cells": [
  {
   "cell_type": "markdown",
   "metadata": {},
   "source": [
    "# Basic Instrument Pricing with QuantLib\n",
    "\n",
    "This notebook demonstrates pricing various financial instruments using QuantLib."
   ]
  },
  {
   "cell_type": "code",
   "execution_count": null,
   "metadata": {},
   "outputs": [],
   "source": [
    "# Import libraries\n",
    "import QuantLib as ql\n",
    "import numpy as np\n",
    "import pandas as pd\n",
    "import matplotlib.pyplot as plt\n",
    "\n",
    "print(f\"QuantLib version: {ql.__version__}\")"
   ]
  },
  {
   "cell_type": "markdown",
   "metadata": {},
   "source": [
    "## Setup: Evaluation Date\n",
    "\n",
    "All pricing starts by setting the evaluation date:"
   ]
  },
  {
   "cell_type": "code",
   "execution_count": null,
   "metadata": {},
   "outputs": [],
   "source": [
    "# Set global evaluation date\n",
    "calculation_date = ql.Date(15, 1, 2025)\n",
    "ql.Settings.instance().evaluationDate = calculation_date\n",
    "\n",
    "print(f\"Evaluation Date: {calculation_date}\")"
   ]
  },
  {
   "cell_type": "markdown",
   "metadata": {},
   "source": [
    "## Example 1: European Equity Option\n",
    "\n",
    "Price a European call option using Black-Scholes."
   ]
  },
  {
   "cell_type": "code",
   "execution_count": null,
   "metadata": {},
   "outputs": [],
   "source": [
    "# Option parameters\n",
    "underlying_price = 100.0\n",
    "strike_price = 105.0\n",
    "volatility = 0.20\n",
    "risk_free_rate = 0.05\n",
    "dividend_yield = 0.02\n",
    "maturity_date = ql.Date(15, 6, 2025)\n",
    "\n",
    "# Create option\n",
    "payoff = ql.PlainVanillaPayoff(ql.Option.Call, strike_price)\n",
    "exercise = ql.EuropeanExercise(maturity_date)\n",
    "european_option = ql.VanillaOption(payoff, exercise)\n",
    "\n",
    "# Market data\n",
    "spot_handle = ql.QuoteHandle(ql.SimpleQuote(underlying_price))\n",
    "flat_ts = ql.YieldTermStructureHandle(\n",
    "    ql.FlatForward(calculation_date, risk_free_rate, ql.Actual365Fixed())\n",
    ")\n",
    "dividend_ts = ql.YieldTermStructureHandle(\n",
    "    ql.FlatForward(calculation_date, dividend_yield, ql.Actual365Fixed())\n",
    ")\n",
    "flat_vol_ts = ql.BlackVolTermStructureHandle(\n",
    "    ql.BlackConstantVol(calculation_date, ql.NullCalendar(), volatility, ql.Actual365Fixed())\n",
    ")\n",
    "\n",
    "# Pricing engine\n",
    "bs_process = ql.BlackScholesMertonProcess(spot_handle, dividend_ts, flat_ts, flat_vol_ts)\n",
    "engine = ql.AnalyticEuropeanEngine(bs_process)\n",
    "european_option.setPricingEngine(engine)\n",
    "\n",
    "# Results\n",
    "print(\"\\n=== European Call Option ===\")\n",
    "print(f\"Spot Price: ${underlying_price}\")\n",
    "print(f\"Strike Price: ${strike_price}\")\n",
    "print(f\"Volatility: {volatility*100:.1f}%\")\n",
    "print(f\"\\nOption Price: ${european_option.NPV():.2f}\")\n",
    "print(f\"Delta: {european_option.delta():.4f}\")\n",
    "print(f\"Gamma: {european_option.gamma():.6f}\")\n",
    "print(f\"Vega: {european_option.vega():.4f}\")\n",
    "print(f\"Theta: {european_option.theta():.4f}\")\n",
    "print(f\"Rho: {european_option.rho():.4f}\")"
   ]
  },
  {
   "cell_type": "markdown",
   "metadata": {},
   "source": [
    "## Example 2: American Option Comparison\n",
    "\n",
    "Compare American and European option prices."
   ]
  },
  {
   "cell_type": "code",
   "execution_count": null,
   "metadata": {},
   "outputs": [],
   "source": [
    "# American option\n",
    "american_exercise = ql.AmericanExercise(calculation_date, maturity_date)\n",
    "american_option = ql.VanillaOption(payoff, american_exercise)\n",
    "\n",
    "# Binomial engine\n",
    "binomial_engine = ql.BinomialVanillaEngine(bs_process, \"crr\", 100)\n",
    "american_option.setPricingEngine(binomial_engine)\n",
    "\n",
    "# Comparison\n",
    "euro_price = european_option.NPV()\n",
    "amer_price = american_option.NPV()\n",
    "premium = amer_price - euro_price\n",
    "\n",
    "print(\"\\n=== European vs American Option ===\")\n",
    "print(f\"European Price: ${euro_price:.2f}\")\n",
    "print(f\"American Price: ${amer_price:.2f}\")\n",
    "print(f\"Early Exercise Premium: ${premium:.2f} ({premium/euro_price*100:.2f}%)\")"
   ]
  },
  {
   "cell_type": "markdown",
   "metadata": {},
   "source": [
    "## Example 3: Volatility Surface Analysis"
   ]
  },
  {
   "cell_type": "code",
   "execution_count": null,
   "metadata": {},
   "outputs": [],
   "source": [
    "# Create volatility surface\n",
    "strikes = np.linspace(80, 120, 9)\n",
    "vols = np.linspace(0.15, 0.30, 5)\n",
    "\n",
    "results = []\n",
    "\n",
    "for vol in vols:\n",
    "    vol_prices = []\n",
    "    for strike in strikes:\n",
    "        # Create option with new strike\n",
    "        payoff = ql.PlainVanillaPayoff(ql.Option.Call, strike)\n",
    "        option = ql.VanillaOption(payoff, exercise)\n",
    "        \n",
    "        # Update volatility\n",
    "        vol_ts = ql.BlackVolTermStructureHandle(\n",
    "            ql.BlackConstantVol(calculation_date, ql.NullCalendar(), vol, ql.Actual365Fixed())\n",
    "        )\n",
    "        process = ql.BlackScholesMertonProcess(spot_handle, dividend_ts, flat_ts, vol_ts)\n",
    "        option.setPricingEngine(ql.AnalyticEuropeanEngine(process))\n",
    "        \n",
    "        vol_prices.append(option.NPV())\n",
    "    \n",
    "    results.append(vol_prices)\n",
    "\n",
    "# Plot\n",
    "plt.figure(figsize=(12, 6))\n",
    "for i, vol in enumerate(vols):\n",
    "    plt.plot(strikes, results[i], marker='o', label=f'Vol = {vol*100:.0f}%')\n",
    "\n",
    "plt.axvline(x=underlying_price, color='red', linestyle='--', label='Spot Price')\n",
    "plt.xlabel('Strike Price')\n",
    "plt.ylabel('Option Price ($)')\n",
    "plt.title('European Call Option Prices vs Strike and Volatility')\n",
    "plt.legend()\n",
    "plt.grid(True, alpha=0.3)\n",
    "plt.show()"
   ]
  },
  {
   "cell_type": "markdown",
   "metadata": {},
   "source": [
    "## Example 4: Interest Rate Swap\n",
    "\n",
    "Price a vanilla interest rate swap."
   ]
  },
  {
   "cell_type": "code",
   "execution_count": null,
   "metadata": {},
   "outputs": [],
   "source": [
    "# Swap parameters\n",
    "nominal = 1_000_000\n",
    "fixed_rate = 0.05\n",
    "maturity_years = 5\n",
    "\n",
    "# Dates\n",
    "effective_date = calculation_date\n",
    "termination_date = calculation_date + ql.Period(maturity_years, ql.Years)\n",
    "\n",
    "# Schedules\n",
    "fixed_schedule = ql.Schedule(\n",
    "    effective_date, termination_date,\n",
    "    ql.Period(ql.Annual), ql.TARGET(),\n",
    "    ql.ModifiedFollowing, ql.ModifiedFollowing,\n",
    "    ql.DateGeneration.Forward, False\n",
    ")\n",
    "\n",
    "float_schedule = ql.Schedule(\n",
    "    effective_date, termination_date,\n",
    "    ql.Period(ql.Semiannual), ql.TARGET(),\n",
    "    ql.ModifiedFollowing, ql.ModifiedFollowing,\n",
    "    ql.DateGeneration.Forward, False\n",
    ")\n",
    "\n",
    "# Create swap\n",
    "swap = ql.VanillaSwap(\n",
    "    ql.VanillaSwap.Payer, nominal,\n",
    "    fixed_schedule, fixed_rate, ql.Actual360(),\n",
    "    float_schedule, ql.Euribor6M(), 0.0, ql.Actual360()\n",
    ")\n",
    "\n",
    "print(\"\\n=== Interest Rate Swap ===\")\n",
    "print(f\"Notional: ${nominal:,}\")\n",
    "print(f\"Fixed Rate: {fixed_rate*100:.2f}%\")\n",
    "print(f\"Maturity: {maturity_years} years\")\n",
    "print(f\"\\nSwap Type: Payer (pay fixed, receive floating)\")\n",
    "print(f\"Fixed Leg Payments: {len(fixed_schedule) - 1}\")\n",
    "print(f\"Float Leg Payments: {len(float_schedule) - 1}\")"
   ]
  },
  {
   "cell_type": "markdown",
   "metadata": {},
   "source": [
    "## Example 5: Multiple Instruments Summary\n",
    "\n",
    "Create a summary table of different instruments."
   ]
  },
  {
   "cell_type": "code",
   "execution_count": null,
   "metadata": {},
   "outputs": [],
   "source": [
    "# Summary of instruments\n",
    "instruments_data = {\n",
    "    'Instrument': [\n",
    "        'European Call',\n",
    "        'European Put',\n",
    "        'American Call',\n",
    "        'American Put'\n",
    "    ],\n",
    "    'Category': ['Equity'] * 4,\n",
    "    'Strike': [105.0] * 4,\n",
    "    'Spot': [100.0] * 4\n",
    "}\n",
    "\n",
    "# Calculate prices\n",
    "prices = []\n",
    "\n",
    "for opt_type in [ql.Option.Call, ql.Option.Put]:\n",
    "    # European\n",
    "    payoff = ql.PlainVanillaPayoff(opt_type, strike_price)\n",
    "    euro = ql.VanillaOption(payoff, exercise)\n",
    "    euro.setPricingEngine(engine)\n",
    "    prices.append(euro.NPV())\n",
    "    \n",
    "    # American\n",
    "    amer = ql.VanillaOption(payoff, american_exercise)\n",
    "    amer.setPricingEngine(binomial_engine)\n",
    "    prices.append(amer.NPV())\n",
    "\n",
    "instruments_data['Price ($)'] = prices\n",
    "\n",
    "# Create DataFrame\n",
    "df = pd.DataFrame(instruments_data)\n",
    "print(\"\\n=== Instrument Pricing Summary ===\")\n",
    "print(df.to_string(index=False))"
   ]
  },
  {
   "cell_type": "markdown",
   "metadata": {},
   "source": [
    "## Summary\n",
    "\n",
    "This notebook demonstrated:\n",
    "\n",
    "- ✅ European and American option pricing\n",
    "- ✅ Greeks calculation\n",
    "- ✅ Volatility surface analysis\n",
    "- ✅ Interest rate swap setup\n",
    "- ✅ Multi-instrument comparison\n",
    "\n",
    "## Next Steps\n",
    "\n",
    "- Explore [Advanced Valuation](advanced_valuation.ipynb)\n",
    "- Review [Instrument Documentation](../instruments/index.md)\n",
    "- Check [API Reference](../api/index.md)"
   ]
  }
 ],
 "metadata": {
  "kernelspec": {
   "display_name": "Python 3",
   "language": "python",
   "name": "python3"
  },
  "language_info": {
   "codemirror_mode": {
    "name": "ipython",
    "version": 3
   },
   "file_extension": ".py",
   "mimetype": "text/x-python",
   "name": "python",
   "nbconvert_exporter": "python",
   "pygments_lexer": "ipython3",
   "version": "3.12.0"
  }
 },
 "nbformat": 4,
 "nbformat_minor": 4
}
